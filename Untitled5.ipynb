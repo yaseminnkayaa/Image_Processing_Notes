{
 "cells": [
  {
   "cell_type": "code",
   "execution_count": 3,
   "id": "61909c77-679a-4008-a02c-824e540ebc07",
   "metadata": {},
   "outputs": [],
   "source": [
    "import cv2\n",
    "import numpy as np"
   ]
  },
  {
   "cell_type": "code",
   "execution_count": 7,
   "id": "98c4b4ba-5775-46c1-9aeb-aef66349ab12",
   "metadata": {},
   "outputs": [
    {
     "name": "stdout",
     "output_type": "stream",
     "text": [
      "(554, 554, 3)\n"
     ]
    }
   ],
   "source": [
    "my_img = cv2.imread(\"./aslan.jpeg\",1)\n",
    "print(my_img.shape)"
   ]
  },
  {
   "cell_type": "code",
   "execution_count": 9,
   "id": "ea549738-46e0-4db7-91df-5d7c91710518",
   "metadata": {},
   "outputs": [],
   "source": [
    "cv2.imshow(\"RGB Image\",my_img)\n",
    "cv2.waitKey(0)\n",
    "cv2.destroyAllWindows()"
   ]
  },
  {
   "cell_type": "code",
   "execution_count": 10,
   "id": "e0bf5116-6f63-4d44-a882-f7e0a7f3c3da",
   "metadata": {},
   "outputs": [],
   "source": [
    "img_vertical = cv2.flip(my_img,0)\n",
    "img_horizontal=cv2.flip(my_img,1)\n",
    "img_both= cv2.flip(my_img,-1)"
   ]
  },
  {
   "cell_type": "code",
   "execution_count": 12,
   "id": "ec910215-e61a-42a3-83fb-b712e0012f3c",
   "metadata": {},
   "outputs": [],
   "source": [
    "cv2.imshow(\"Original Image\",my_img)\n",
    "cv2.imshow(\"Vertical Image\",img_vertical)\n",
    "cv2.imshow(\"Horizontal Image\",img_horizontal)\n",
    "cv2.imshow(\"Vertical and Horizontal Image\",img_both)\n",
    "cv2.waitKey(0)\n",
    "cv2.destroyAllWindows()"
   ]
  },
  {
   "cell_type": "code",
   "execution_count": 13,
   "id": "1e241626-f054-4aa7-be1f-1bcd86d3732d",
   "metadata": {},
   "outputs": [
    {
     "data": {
      "text/plain": [
       "numpy.ndarray"
      ]
     },
     "execution_count": 13,
     "metadata": {},
     "output_type": "execute_result"
    }
   ],
   "source": [
    "type(my_img)"
   ]
  },
  {
   "cell_type": "code",
   "execution_count": 16,
   "id": "836fdda1-eab5-4583-bb73-86f5f0161ca4",
   "metadata": {},
   "outputs": [],
   "source": [
    "vertical_with_code =my_img[::-1,:,:]\n",
    "cv2. imshow(\"Vertical Image With Code\",vertical_with_code)\n",
    "cv2.waitKey(0)\n",
    "cv2.destroyAllWindows()\n"
   ]
  },
  {
   "cell_type": "code",
   "execution_count": 21,
   "id": "5a5ac916-3724-4fd9-8f16-e73a3d5d8c91",
   "metadata": {},
   "outputs": [],
   "source": [
    "vertical_with_code =my_img[:,::-1,:]\n",
    "cv2. imshow(\"Vertical Image With Code\",vertical_with_code)\n",
    "cv2.waitKey(0)\n",
    "cv2.destroyAllWindows()"
   ]
  },
  {
   "cell_type": "code",
   "execution_count": 22,
   "id": "e39ef59a-ef21-4bc8-8819-41e95f6d92fb",
   "metadata": {},
   "outputs": [],
   "source": [
    "vertical_with_code =my_img[::-1,::-1,:]\n",
    "cv2. imshow(\"Vertical Image With Code\",vertical_with_code)\n",
    "cv2.waitKey(0)\n",
    "cv2.destroyAllWindows()"
   ]
  },
  {
   "cell_type": "code",
   "execution_count": 23,
   "id": "c8b0245e-8c55-402b-b89b-92e5158cfc91",
   "metadata": {},
   "outputs": [
    {
     "name": "stdout",
     "output_type": "stream",
     "text": [
      "[1, 2, 3, 4, 5, 6, 7, 8, 9, 10]\n",
      "[10, 9, 8, 7, 6, 5, 4, 3, 2, 1]\n",
      "ilk deger = 1\n",
      "son değer = 10\n",
      "son değer = 1\n"
     ]
    }
   ],
   "source": [
    "my_list = [x for x in range (1,11)]\n",
    "print (my_list)\n",
    "print(my_list [::-1])\n",
    "print(f\"ilk deger = {my_list[0]}\")\n",
    "print (f\"son değer = {my_list[9]}\")\n",
    "print (f\"son değer = {my_list[0]}\")\n"
   ]
  },
  {
   "cell_type": "code",
   "execution_count": 24,
   "id": "f0d980d3-b411-4079-b7d0-f480af53a0c5",
   "metadata": {},
   "outputs": [
    {
     "name": "stdout",
     "output_type": "stream",
     "text": [
      "(554, 554, 3)\n",
      "görüntünün yüksekliği = 554\n",
      "görüntünün genişliği = 554\n",
      "görüntünün kanal sayısı = 3\n"
     ]
    }
   ],
   "source": [
    "print(my_img.shape)\n",
    "print(f\"görüntünün yüksekliği = {my_img.shape[0]}\")\n",
    "print (f\"görüntünün genişliği = {my_img.shape[1]}\")\n",
    "print (f\"görüntünün kanal sayısı = {my_img.shape[2]}\")"
   ]
  },
  {
   "cell_type": "code",
   "execution_count": 29,
   "id": "402eebb3-0e07-4f48-a62f-a4f88db2ac73",
   "metadata": {},
   "outputs": [],
   "source": [
    "resized_img = cv2.resize(my_img,(1108,1108),cv2.INTER_LANCZOS4)\n",
    "cv2.imshow(\"Original Image\",my_img)\n",
    "cv2.imshow(\"Resized Image\",resized_img)\n",
    "cv2.waitKey(0)\n",
    "cv2.destroyAllWindows()"
   ]
  },
  {
   "cell_type": "code",
   "execution_count": null,
   "id": "f1c3b8d6-00dd-421c-bd63-363963121d1f",
   "metadata": {},
   "outputs": [],
   "source": []
  }
 ],
 "metadata": {
  "kernelspec": {
   "display_name": "env_ybs_3",
   "language": "python",
   "name": "env_ybs_3"
  },
  "language_info": {
   "codemirror_mode": {
    "name": "ipython",
    "version": 3
   },
   "file_extension": ".py",
   "mimetype": "text/x-python",
   "name": "python",
   "nbconvert_exporter": "python",
   "pygments_lexer": "ipython3",
   "version": "3.10.10"
  }
 },
 "nbformat": 4,
 "nbformat_minor": 5
}

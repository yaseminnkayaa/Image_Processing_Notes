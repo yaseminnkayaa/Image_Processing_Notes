{
 "cells": [
  {
   "cell_type": "code",
   "execution_count": 1,
   "id": "4d1ca425-d3af-4b7b-b111-3cd46f600d6b",
   "metadata": {},
   "outputs": [],
   "source": [
    "import tensorflow as lf\n",
    "from tensorflow import keras\n",
    "import numpy as np\n",
    "import matplotlib.pyplot as plt \n",
    "from sklearn.model_selection import train_test_split"
   ]
  },
  {
   "cell_type": "code",
   "execution_count": 9,
   "id": "b5db3912-6ed7-4495-9667-6071c3e81d44",
   "metadata": {},
   "outputs": [
    {
     "name": "stdout",
     "output_type": "stream",
     "text": [
      "MNIST Veri Seti Yükleniyor\n"
     ]
    }
   ],
   "source": [
    "print(\"MNIST Veri Seti Yükleniyor\")\n",
    "(x_train,y_train) ,(x_test,y_test) = keras.datasets.mnist.load_data()\n"
   ]
  },
  {
   "cell_type": "code",
   "execution_count": 11,
   "id": "a2eb0af6-8d1e-44ce-a8cc-704bb18ae2e6",
   "metadata": {},
   "outputs": [
    {
     "name": "stdout",
     "output_type": "stream",
     "text": [
      "eğitim verilerinin boyutu ve sayısı = (60000, 28, 28, 1)\n",
      "test verilerinin boyutu ve sayısı = (10000, 28, 28, 1)\n"
     ]
    }
   ],
   "source": [
    "x_train=x_train.reshape(-1,28,28,1)\n",
    "x_test=x_test.reshape(-1,28,28,1)\n",
    "\n",
    "x_train=x_train.astype('float')/255.0\n",
    "x_test= x_test.astype('float')/255.0\n",
    "\n",
    "\n",
    "print(f\"eğitim verilerinin boyutu ve sayısı = {x_train.shape}\")\n",
    "print(f\"test verilerinin boyutu ve sayısı = {x_test.shape}\")\n",
    "\n"
   ]
  },
  {
   "cell_type": "code",
   "execution_count": 13,
   "id": "205491dd-b117-462c-ba3d-567515ca85b0",
   "metadata": {},
   "outputs": [],
   "source": [
    "y_train = keras.utils.to_categorical(y_train, 10)\n",
    "y_test = keras.utils.to_categorical(y_test, 10)\n"
   ]
  },
  {
   "cell_type": "code",
   "execution_count": 15,
   "id": "442ffb49-b399-45a4-b8ab-9a55118a95a3",
   "metadata": {},
   "outputs": [
    {
     "name": "stdout",
     "output_type": "stream",
     "text": [
      " veri bölme sonrası boyutlar:\n",
      "eğitim verisi boyutu:(48000, 28, 28, 1)\n",
      " validation verisi boyutu:(12000, 28, 28, 1)\n"
     ]
    }
   ],
   "source": [
    "X_train, X_val, y_train_split, y_val = train_test_split(\n",
    "    x_train,\n",
    "    y_train,\n",
    "    test_size=0.2,\n",
    "    random_state=42,\n",
    "    stratify=y_train\n",
    ")\n",
    "\n",
    "print(f\" veri bölme sonrası boyutlar:\")\n",
    "print(f\"eğitim verisi boyutu:{X_train.shape}\")\n",
    "print(f\" validation verisi boyutu:{X_val.shape}\")\n"
   ]
  },
  {
   "cell_type": "code",
   "execution_count": 33,
   "id": "6ae2d356-e664-43ec-96fa-8f56b3d28b83",
   "metadata": {},
   "outputs": [],
   "source": [
    "model=keras.Sequential([\n",
    "        keras.layers.Conv2D(32,(3,3),activation='relu',input_shape=(28,28,1)),\n",
    "    keras.layers.BatchNormalization(),\n",
    "        keras.layers.Conv2D(32,(3,3),activation='relu'),\n",
    "     keras.layers.BatchNormalization(),\n",
    "    keras.layers.MaxPool2D((2,2)),\n",
    "    keras.layers.Dropout(0.25),\n",
    "\n",
    "\n",
    "            keras.layers.Conv2D(64,(3,3),activation='relu'),\n",
    "    keras.layers.BatchNormalization(),\n",
    "        keras.layers.Conv2D(64,(3,3),activation='relu'),\n",
    "     keras.layers.BatchNormalization(),\n",
    "    keras.layers.MaxPool2D((2,2)),\n",
    "    keras.layers.Dropout(0.25),\n",
    "\n",
    "\n",
    "  keras.layers.Flatten(),\n",
    "        keras.layers.Dense(512,activation='relu'),\n",
    "     keras.layers.BatchNormalization(),\n",
    "    keras.layers.Dropout(0.5),\n",
    "    keras.layers.Dense(10,activation='softmax'),\n",
    "\n",
    "\n",
    "\n",
    "])"
   ]
  },
  {
   "cell_type": "code",
   "execution_count": 35,
   "id": "4734ecca-132d-412e-a3fd-fc1ac40e1142",
   "metadata": {},
   "outputs": [],
   "source": [
    "model.compile(\n",
    "    optimizer='adam',\n",
    "    loss='categorical_crossentropy',\n",
    "    metrics=['accuracy']\n",
    "    \n",
    ")"
   ]
  },
  {
   "cell_type": "code",
   "execution_count": 37,
   "id": "41f9a3e0-459f-47c1-a650-347469852dc8",
   "metadata": {},
   "outputs": [],
   "source": [
    "model_checkpoint=keras.callbacks.ModelCheckpoint(\n",
    "    'two_blocks_cnn_for_mnist_dataset.h5',\n",
    "    monitor='val_accuracy',\n",
    "    save_best_only=True,\n",
    "    mode='max',verbose =1)"
   ]
  },
  {
   "cell_type": "code",
   "execution_count": 41,
   "id": "a5dce880-6343-455f-886b-751716f34ab0",
   "metadata": {},
   "outputs": [
    {
     "name": "stdout",
     "output_type": "stream",
     "text": [
      "Epoch 1/5\n",
      "375/375 [==============================] - ETA: 0s - loss: 0.2011 - accuracy: 0.9397\n",
      "Epoch 1: val_accuracy improved from -inf to 0.34475, saving model to two_blocks_cnn_for_mnist_dataset.h5\n",
      "375/375 [==============================] - 32s 85ms/step - loss: 0.2011 - accuracy: 0.9397 - val_loss: 3.0865 - val_accuracy: 0.3447\n",
      "Epoch 2/5\n",
      "375/375 [==============================] - ETA: 0s - loss: 0.0677 - accuracy: 0.9793\n",
      "Epoch 2: val_accuracy improved from 0.34475 to 0.98825, saving model to two_blocks_cnn_for_mnist_dataset.h5\n",
      "375/375 [==============================] - 32s 84ms/step - loss: 0.0677 - accuracy: 0.9793 - val_loss: 0.0385 - val_accuracy: 0.9883\n",
      "Epoch 3/5\n",
      "375/375 [==============================] - ETA: 0s - loss: 0.0497 - accuracy: 0.9846\n",
      "Epoch 3: val_accuracy did not improve from 0.98825\n",
      "375/375 [==============================] - 32s 85ms/step - loss: 0.0497 - accuracy: 0.9846 - val_loss: 0.0398 - val_accuracy: 0.9882\n",
      "Epoch 4/5\n",
      "375/375 [==============================] - ETA: 0s - loss: 0.0409 - accuracy: 0.9871\n",
      "Epoch 4: val_accuracy improved from 0.98825 to 0.99117, saving model to two_blocks_cnn_for_mnist_dataset.h5\n",
      "375/375 [==============================] - 32s 84ms/step - loss: 0.0409 - accuracy: 0.9871 - val_loss: 0.0271 - val_accuracy: 0.9912\n",
      "Epoch 5/5\n",
      "375/375 [==============================] - ETA: 0s - loss: 0.0333 - accuracy: 0.9895\n",
      "Epoch 5: val_accuracy improved from 0.99117 to 0.99133, saving model to two_blocks_cnn_for_mnist_dataset.h5\n",
      "375/375 [==============================] - 32s 86ms/step - loss: 0.0333 - accuracy: 0.9895 - val_loss: 0.0292 - val_accuracy: 0.9913\n"
     ]
    },
    {
     "data": {
      "text/plain": [
       "<keras.callbacks.History at 0x1accb3fb0d0>"
      ]
     },
     "execution_count": 41,
     "metadata": {},
     "output_type": "execute_result"
    }
   ],
   "source": [
    "model.fit(X_train,y_train_split,validation_data=(X_val,y_val),\n",
    "          batch_size=128, epochs=5, callbacks=model_checkpoint,\n",
    "          verbose=1)"
   ]
  },
  {
   "cell_type": "code",
   "execution_count": null,
   "id": "7def2b8e-f6c5-43e7-b9b9-346bee5263b1",
   "metadata": {},
   "outputs": [],
   "source": []
  }
 ],
 "metadata": {
  "kernelspec": {
   "display_name": "env_ybs",
   "language": "python",
   "name": "env_ybs"
  },
  "language_info": {
   "codemirror_mode": {
    "name": "ipython",
    "version": 3
   },
   "file_extension": ".py",
   "mimetype": "text/x-python",
   "name": "python",
   "nbconvert_exporter": "python",
   "pygments_lexer": "ipython3",
   "version": "3.10.10"
  }
 },
 "nbformat": 4,
 "nbformat_minor": 5
}
